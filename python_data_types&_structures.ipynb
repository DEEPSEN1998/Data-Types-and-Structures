{
  "nbformat": 4,
  "nbformat_minor": 0,
  "metadata": {
    "colab": {
      "provenance": []
    },
    "kernelspec": {
      "name": "python3",
      "display_name": "Python 3"
    },
    "language_info": {
      "name": "python"
    }
  },
  "cells": [
    {
      "cell_type": "markdown",
      "source": [
        "# Data Types and Structures Questions"
      ],
      "metadata": {
        "id": "YOJD9d6DyZQn"
      }
    },
    {
      "cell_type": "markdown",
      "source": [
        "**1. What are data structures, and why are they important?**\n",
        "- A data structure is a way to organize, manage, and store data so it can be efficiently accessed and modified\n",
        "- Data structures help manage and store data in a way that makes it easy to access and modify.\n"
      ],
      "metadata": {
        "id": "y1I2l71rl7kD"
      }
    },
    {
      "cell_type": "markdown",
      "source": [
        "**2.  Explain the difference between mutable and immutable data types with examples**\n",
        "-  Objects that can be modified after their creation. You can change their content without changing their identity.\n",
        "\n",
        "  Examples: list, dict, set\n",
        "\n",
        "-  Objects that cannot be modified after their creation. Any operation that alters their value creates a new object.\n",
        "\n",
        "  Examples: int, float, bool, str, tuple\n",
        "  "
      ],
      "metadata": {
        "id": "dPlf8BUboN6U"
      }
    },
    {
      "cell_type": "code",
      "source": [
        "#Mutable data type\n",
        "my_list = [1, 2, 3]\n",
        "print(\"Original List:\", my_list)\n",
        "\n",
        "# Modifying the list\n",
        "my_list.append(4)\n",
        "print(\"Modified List:\", my_list)\n",
        "\n",
        "#immutable data type\n",
        "my_string = \"Hello\"\n",
        "print(\"Original String:\", my_string)\n",
        "\n",
        "new_string = my_string + \" World\"\n",
        "print(\"Modified String:\", new_string)\n",
        "print(\"Original String (unchanged):\", my_string)\n"
      ],
      "metadata": {
        "colab": {
          "base_uri": "https://localhost:8080/"
        },
        "id": "heB9PO95pBg-",
        "outputId": "14c85049-eef2-4e02-9bc6-39c32e863ad9"
      },
      "execution_count": null,
      "outputs": [
        {
          "output_type": "stream",
          "name": "stdout",
          "text": [
            "Original List: [1, 2, 3]\n",
            "Modified List: [1, 2, 3, 4]\n",
            "Original String: Hello\n",
            "Modified String: Hello World\n",
            "Original String (unchanged): Hello\n"
          ]
        }
      ]
    },
    {
      "cell_type": "markdown",
      "source": [
        "**3. What are the main differences between lists and tuples in Python?**\n",
        "- **lists:**\n",
        "- Mutable: Can be modified (add, remove, or change elements).\n",
        "- Defined using square brackets [ ].\n",
        "- Suitable for collections of items that may change.\n",
        "- Has more built-in methods like append(), extend(), remove(), etc.\n",
        "- **tuples:**\n",
        "- Immutable: Cannot be modified after creation.\n",
        "- Defined using parentheses ( ).\n",
        "- Suitable for fixed collections of items.\n",
        "- Supports methods like count() and index()."
      ],
      "metadata": {
        "id": "fzs4teUdoNnS"
      }
    },
    {
      "cell_type": "markdown",
      "source": [
        "**4. Describe how dictionaries store data?**\n",
        "- A dictionary is a collection of key-value pairs where:\n",
        " Key: The unique identifier, Value: The data associated with the key."
      ],
      "metadata": {
        "id": "Pt5XS6TCrZzw"
      }
    },
    {
      "cell_type": "code",
      "source": [
        "#example\n",
        "my_dict = {\"name\": \"Deep\", \"age\": 26}\n",
        "my_dict"
      ],
      "metadata": {
        "colab": {
          "base_uri": "https://localhost:8080/"
        },
        "id": "tKd8y3u5rzmx",
        "outputId": "7652712f-6e47-4643-83c4-1ce0b10d4f5c"
      },
      "execution_count": null,
      "outputs": [
        {
          "output_type": "execute_result",
          "data": {
            "text/plain": [
              "{'name': 'Deep', 'age': 26}"
            ]
          },
          "metadata": {},
          "execution_count": 3
        }
      ]
    },
    {
      "cell_type": "markdown",
      "source": [
        "**5. Why might you use a set instead of a list in Python?**\n",
        "- Sets automatically remove duplicates and provide fast membership testing"
      ],
      "metadata": {
        "id": "Tu3sGmUNspyZ"
      }
    },
    {
      "cell_type": "code",
      "source": [
        "#example\n",
        "my_list = [1, 2, 2, 3]\n",
        "my_set = set(my_list)  # {1, 2, 3}\n",
        "print(2 in my_set)  # True\n"
      ],
      "metadata": {
        "colab": {
          "base_uri": "https://localhost:8080/"
        },
        "id": "1NXjBL3lsuDC",
        "outputId": "a60b1706-a397-4e75-95df-2aa3e612dc5e"
      },
      "execution_count": null,
      "outputs": [
        {
          "output_type": "stream",
          "name": "stdout",
          "text": [
            "True\n"
          ]
        }
      ]
    },
    {
      "cell_type": "markdown",
      "source": [
        "**6. What is a string in Python, and how is it different from a list?**\n",
        "- A string is a sequence of characters, while a list is a sequence of elements that can be of any type.\n",
        "- Strings are immutable, while lists are mutable."
      ],
      "metadata": {
        "id": "DjdngxT0s9HP"
      }
    },
    {
      "cell_type": "code",
      "source": [
        "my_string = \"hello\"\n",
        "my_list = [\"h\", True, \"2.5\", \"l\", 1]\n",
        "print(my_list)\n",
        "print(my_string)"
      ],
      "metadata": {
        "colab": {
          "base_uri": "https://localhost:8080/"
        },
        "id": "wfgqQfW8tKSa",
        "outputId": "2cb26bbc-8168-4afb-8046-441a84c66517"
      },
      "execution_count": null,
      "outputs": [
        {
          "output_type": "stream",
          "name": "stdout",
          "text": [
            "['h', True, '2.5', 'l', 1]\n",
            "hello\n"
          ]
        }
      ]
    },
    {
      "cell_type": "markdown",
      "source": [
        "**7. How do tuples ensure data integrity in Python?**\n",
        "- Tuples are immutable, meaning their contents cannot be changed after creation. This ensures data cannot be accidentally modified.\n",
        "\n",
        "\n"
      ],
      "metadata": {
        "id": "MHuGZAZ-thFv"
      }
    },
    {
      "cell_type": "code",
      "source": [
        "#example\n",
        "my_tuple = (1, 2, 3)\n",
        "# my_tuple[0] = 4  # Error: Tuples are immutable\n"
      ],
      "metadata": {
        "id": "qWt2pB1vtjcC"
      },
      "execution_count": null,
      "outputs": []
    },
    {
      "cell_type": "code",
      "source": [],
      "metadata": {
        "id": "TEj4z3nJtvkD"
      },
      "execution_count": null,
      "outputs": []
    },
    {
      "cell_type": "markdown",
      "source": [
        "**8.  What is a hash table, and how does it relate to dictionaries in Python?**\n",
        "- A hash table is a data structure that maps keys to values using a hash function.\n",
        "- Dictionaries in Python are implemented as hash tables."
      ],
      "metadata": {
        "id": "zK2C4PIGt1bz"
      }
    },
    {
      "cell_type": "code",
      "source": [
        "#example\n",
        "my_dict = {\"key1\": \"value1\", \"key2\": \"value2\"}\n",
        "print(my_dict[\"key1\"])  # Uses hashing to retrieve the value\n"
      ],
      "metadata": {
        "colab": {
          "base_uri": "https://localhost:8080/"
        },
        "id": "Mm9NOGRIuLgK",
        "outputId": "d15c95b2-575b-4aeb-9a7a-6117d3fb7e8d"
      },
      "execution_count": null,
      "outputs": [
        {
          "output_type": "stream",
          "name": "stdout",
          "text": [
            "value1\n"
          ]
        }
      ]
    },
    {
      "cell_type": "markdown",
      "source": [
        "**9.  Can lists contain different data types in Python?**\n",
        "- Yes, lists can contain elements of different data types.\n"
      ],
      "metadata": {
        "id": "KbUuvS-CuYIl"
      }
    },
    {
      "cell_type": "code",
      "source": [
        "#example:\n",
        "list=[\"str\",2.5,1,True]\n",
        "list"
      ],
      "metadata": {
        "colab": {
          "base_uri": "https://localhost:8080/"
        },
        "id": "CUOxnBVvubJT",
        "outputId": "a8e3ef52-786f-4e1a-a1fd-7747620c704c"
      },
      "execution_count": null,
      "outputs": [
        {
          "output_type": "execute_result",
          "data": {
            "text/plain": [
              "['str', 2.5, 1, True]"
            ]
          },
          "metadata": {},
          "execution_count": 9
        }
      ]
    },
    {
      "cell_type": "markdown",
      "source": [
        "**10.  Why are strings immutable in Python?**\n",
        "- Strings are immutable to enhance performance and ensure thread safety."
      ],
      "metadata": {
        "id": "vyilkuzluwzC"
      }
    },
    {
      "cell_type": "code",
      "source": [
        "#exmple:\n",
        "my_string = \"hello\"\n",
        "my_string[0] = \"H\"\n"
      ],
      "metadata": {
        "colab": {
          "base_uri": "https://localhost:8080/",
          "height": 176
        },
        "id": "QlFMrNX0vGCr",
        "outputId": "ccdad419-a022-4d74-a522-fa91503792f3"
      },
      "execution_count": null,
      "outputs": [
        {
          "output_type": "error",
          "ename": "TypeError",
          "evalue": "'str' object does not support item assignment",
          "traceback": [
            "\u001b[0;31m---------------------------------------------------------------------------\u001b[0m",
            "\u001b[0;31mTypeError\u001b[0m                                 Traceback (most recent call last)",
            "\u001b[0;32m<ipython-input-11-63564136c6ce>\u001b[0m in \u001b[0;36m<cell line: 3>\u001b[0;34m()\u001b[0m\n\u001b[1;32m      1\u001b[0m \u001b[0;31m#exmple:\u001b[0m\u001b[0;34m\u001b[0m\u001b[0;34m\u001b[0m\u001b[0m\n\u001b[1;32m      2\u001b[0m \u001b[0mmy_string\u001b[0m \u001b[0;34m=\u001b[0m \u001b[0;34m\"hello\"\u001b[0m\u001b[0;34m\u001b[0m\u001b[0;34m\u001b[0m\u001b[0m\n\u001b[0;32m----> 3\u001b[0;31m \u001b[0mmy_string\u001b[0m\u001b[0;34m[\u001b[0m\u001b[0;36m0\u001b[0m\u001b[0;34m]\u001b[0m \u001b[0;34m=\u001b[0m \u001b[0;34m\"H\"\u001b[0m\u001b[0;34m\u001b[0m\u001b[0;34m\u001b[0m\u001b[0m\n\u001b[0m",
            "\u001b[0;31mTypeError\u001b[0m: 'str' object does not support item assignment"
          ]
        }
      ]
    },
    {
      "cell_type": "markdown",
      "source": [
        "**11. What advantages do dictionaries offer over lists for certain tasks?**\n",
        "- Key-value mapping: Suitable for storing relationships\n",
        "- Accessing elements by key is faster than searching a list by value"
      ],
      "metadata": {
        "id": "eJxKRXLsvPTJ"
      }
    },
    {
      "cell_type": "code",
      "source": [
        "#e.g:\n",
        "my_dict = {\"name\": \"Deep\", \"age\": 26}\n",
        "print(my_dict[\"name\"])  # Fast access\n"
      ],
      "metadata": {
        "colab": {
          "base_uri": "https://localhost:8080/"
        },
        "id": "eOMwBUvFvdtj",
        "outputId": "6767567e-e138-4404-b935-33394b8280e4"
      },
      "execution_count": null,
      "outputs": [
        {
          "output_type": "stream",
          "name": "stdout",
          "text": [
            "Deep\n"
          ]
        }
      ]
    },
    {
      "cell_type": "markdown",
      "source": [
        "**12.  Describe a scenario where using a tuple would be preferable over a list.**\n",
        "- Use a tuple to store constant data, like coordinates.\n"
      ],
      "metadata": {
        "id": "F7kmVAD1vizI"
      }
    },
    {
      "cell_type": "code",
      "source": [
        "#e.g:\n",
        "point = (10, 20)\n",
        "# Tuples ensure the coordinates cannot be accidentally changed.\n"
      ],
      "metadata": {
        "id": "eGqv-piqv5gT"
      },
      "execution_count": null,
      "outputs": []
    },
    {
      "cell_type": "markdown",
      "source": [
        "**13.  How do sets handle duplicate values in Python?**\n",
        "- Sets automatically remove duplicates."
      ],
      "metadata": {
        "id": "R5qEXws-wBVY"
      }
    },
    {
      "cell_type": "code",
      "source": [
        "#example:\n",
        "my_set = {1, 2, 2, 3, 3}\n",
        "print(my_set)\n"
      ],
      "metadata": {
        "colab": {
          "base_uri": "https://localhost:8080/"
        },
        "id": "LwfrVeCqwKDr",
        "outputId": "13c2193b-1f71-4fcd-8500-3170934343e9"
      },
      "execution_count": null,
      "outputs": [
        {
          "output_type": "stream",
          "name": "stdout",
          "text": [
            "{1, 2, 3}\n"
          ]
        }
      ]
    },
    {
      "cell_type": "markdown",
      "source": [
        "**14.  How does the “in” keyword work differently for lists and dictionaries?**\n",
        "\n",
        "- Lists: Checks for element presence.\n",
        "- Dictionaries: Checks for key presence."
      ],
      "metadata": {
        "id": "4nXM6m02wUum"
      }
    },
    {
      "cell_type": "code",
      "source": [
        "#exmple:\n",
        "my_list = [1, 2, 3]\n",
        "my_dict = {\"a\": 1, \"b\": 2}\n",
        "print(1 in my_list)  # True\n",
        "print(\"a\" in my_dict)  # True\n"
      ],
      "metadata": {
        "colab": {
          "base_uri": "https://localhost:8080/"
        },
        "id": "jcFxcfQLwjQk",
        "outputId": "561c26fa-f699-4e71-e1bc-56d3afa11fa5"
      },
      "execution_count": null,
      "outputs": [
        {
          "output_type": "stream",
          "name": "stdout",
          "text": [
            "True\n",
            "True\n"
          ]
        }
      ]
    },
    {
      "cell_type": "markdown",
      "source": [
        "**15. Can you modify the elements of a tuple? Explain why or why not.**\n",
        "- No, tuples are immutable."
      ],
      "metadata": {
        "id": "QFWYFJaqwr8b"
      }
    },
    {
      "cell_type": "code",
      "source": [
        "#example:\n",
        "my_tuple = (1, 2, 3)\n",
        "my_tuple[0] = 4\n"
      ],
      "metadata": {
        "colab": {
          "base_uri": "https://localhost:8080/",
          "height": 176
        },
        "id": "21-X-1k0wwFq",
        "outputId": "8f8d0a01-634c-439c-e626-4cca09a4d143"
      },
      "execution_count": null,
      "outputs": [
        {
          "output_type": "error",
          "ename": "TypeError",
          "evalue": "'tuple' object does not support item assignment",
          "traceback": [
            "\u001b[0;31m---------------------------------------------------------------------------\u001b[0m",
            "\u001b[0;31mTypeError\u001b[0m                                 Traceback (most recent call last)",
            "\u001b[0;32m<ipython-input-18-73a6c5556899>\u001b[0m in \u001b[0;36m<cell line: 3>\u001b[0;34m()\u001b[0m\n\u001b[1;32m      1\u001b[0m \u001b[0;31m#example:\u001b[0m\u001b[0;34m\u001b[0m\u001b[0;34m\u001b[0m\u001b[0m\n\u001b[1;32m      2\u001b[0m \u001b[0mmy_tuple\u001b[0m \u001b[0;34m=\u001b[0m \u001b[0;34m(\u001b[0m\u001b[0;36m1\u001b[0m\u001b[0;34m,\u001b[0m \u001b[0;36m2\u001b[0m\u001b[0;34m,\u001b[0m \u001b[0;36m3\u001b[0m\u001b[0;34m)\u001b[0m\u001b[0;34m\u001b[0m\u001b[0;34m\u001b[0m\u001b[0m\n\u001b[0;32m----> 3\u001b[0;31m \u001b[0mmy_tuple\u001b[0m\u001b[0;34m[\u001b[0m\u001b[0;36m0\u001b[0m\u001b[0;34m]\u001b[0m \u001b[0;34m=\u001b[0m \u001b[0;36m4\u001b[0m\u001b[0;34m\u001b[0m\u001b[0;34m\u001b[0m\u001b[0m\n\u001b[0m",
            "\u001b[0;31mTypeError\u001b[0m: 'tuple' object does not support item assignment"
          ]
        }
      ]
    },
    {
      "cell_type": "markdown",
      "source": [
        "**16.  What is a nested dictionary, and give an example of its use case?**\n",
        "- A nested dictionary is a dictionary containing another dictionary"
      ],
      "metadata": {
        "id": "znp7b0hhw8Ef"
      }
    },
    {
      "cell_type": "code",
      "source": [
        "#example :\n",
        "employees = {\n",
        "    \"emp1\": {\"name\": \"Deep\", \"age\": 26},\n",
        "    \"emp2\": {\"name\": \"Rahul\", \"age\": 26},\n",
        "}\n",
        "print(employees[\"emp1\"][\"name\"])  # Deep\n"
      ],
      "metadata": {
        "colab": {
          "base_uri": "https://localhost:8080/"
        },
        "id": "SOtJbF07xNvp",
        "outputId": "72ec76e7-0e35-4ec4-fc22-8d20fb8a193f"
      },
      "execution_count": null,
      "outputs": [
        {
          "output_type": "stream",
          "name": "stdout",
          "text": [
            "Deep\n"
          ]
        }
      ]
    },
    {
      "cell_type": "markdown",
      "source": [
        "**17. Describe the time complexity of accessing elements in a dictionary.**\n",
        "-  O(1)"
      ],
      "metadata": {
        "id": "dWEigI2exaKm"
      }
    },
    {
      "cell_type": "markdown",
      "source": [
        "**18.  In what situations are lists preferred over dictionaries?**\n",
        "- You only need a collection of values without key-value mapping.\n",
        "- Order is important."
      ],
      "metadata": {
        "id": "eEr1XxDKxo4B"
      }
    },
    {
      "cell_type": "markdown",
      "source": [
        "**19.Why are dictionaries considered unordered, and how does that affect data retrieval?**\n",
        "-\n",
        "\n",
        "\n",
        "\n",
        "\n",
        "\n",
        "\n"
      ],
      "metadata": {
        "id": "Bur02nqSx2rX"
      }
    },
    {
      "cell_type": "code",
      "source": [],
      "metadata": {
        "id": "YN1XgbcByH_k"
      },
      "execution_count": null,
      "outputs": []
    },
    {
      "cell_type": "markdown",
      "source": [
        "**20. Explain the difference between a list and a dictionary in terms of data retrieval.**\n",
        "- Lists: Retrieve elements by index.\n",
        "- Dictionaries: Retrieve values by key.\n"
      ],
      "metadata": {
        "id": "FYWX0IF2yMJ4"
      }
    },
    {
      "cell_type": "code",
      "source": [
        "#example:\n",
        "my_list = [10, 20, 30]\n",
        "my_dict = {\"a\": 10, \"b\": 20}\n",
        "print(my_list[0])  # 10\n",
        "print(my_dict[\"a\"])  # 10\n"
      ],
      "metadata": {
        "colab": {
          "base_uri": "https://localhost:8080/"
        },
        "id": "vCNEdXH3yTf8",
        "outputId": "ef209dcf-1862-4ab9-8caf-49307950deaf"
      },
      "execution_count": null,
      "outputs": [
        {
          "output_type": "stream",
          "name": "stdout",
          "text": [
            "10\n",
            "10\n"
          ]
        }
      ]
    },
    {
      "cell_type": "markdown",
      "source": [
        "# Practical Questions"
      ],
      "metadata": {
        "id": "qO6HavojylG2"
      }
    },
    {
      "cell_type": "code",
      "source": [
        "#1. Write a code to create a string with your name and print it.\n",
        "str=\"Deep\"\n",
        "print(str)"
      ],
      "metadata": {
        "colab": {
          "base_uri": "https://localhost:8080/"
        },
        "id": "CJ5bBx2myrMc",
        "outputId": "cb39f040-5092-4310-d973-cb1cff5f1479"
      },
      "execution_count": null,
      "outputs": [
        {
          "output_type": "stream",
          "name": "stdout",
          "text": [
            "Deep\n"
          ]
        }
      ]
    },
    {
      "cell_type": "code",
      "source": [
        "#2. Write a code to find the length of the string \"Hello World\"?\n",
        "str=\"Hello World\"\n",
        "print(len(str))"
      ],
      "metadata": {
        "id": "K32Z3qMIzzfu",
        "colab": {
          "base_uri": "https://localhost:8080/"
        },
        "outputId": "e5da4410-445f-4c98-e232-82dae6756281"
      },
      "execution_count": 22,
      "outputs": [
        {
          "output_type": "stream",
          "name": "stdout",
          "text": [
            "11\n"
          ]
        }
      ]
    },
    {
      "cell_type": "code",
      "source": [
        "#3. Write a code to slice the first 3 characters from the string \"Python Programming\n",
        "str=\"Python Programming\"\n",
        "print(str[0:3])\n"
      ],
      "metadata": {
        "colab": {
          "base_uri": "https://localhost:8080/"
        },
        "id": "TQtws6gQ7u8Z",
        "outputId": "724b681c-7e37-487a-fc7c-4adaeeeea90e"
      },
      "execution_count": 24,
      "outputs": [
        {
          "output_type": "stream",
          "name": "stdout",
          "text": [
            "Pyt\n"
          ]
        }
      ]
    },
    {
      "cell_type": "code",
      "source": [
        "#4.  Write a code to convert the string \"hello\" to uppercase\n",
        "str=\"hello\"\n",
        "print(str.upper())"
      ],
      "metadata": {
        "colab": {
          "base_uri": "https://localhost:8080/"
        },
        "id": "Oixd7e1D8KJp",
        "outputId": "f0cbabf7-4333-4724-b2af-83b8c8f8edaf"
      },
      "execution_count": 25,
      "outputs": [
        {
          "output_type": "stream",
          "name": "stdout",
          "text": [
            "HELLO\n"
          ]
        }
      ]
    },
    {
      "cell_type": "code",
      "source": [
        "#5.  Write a code to replace the word \"apple\" with \"orange\" in the string \"I like apple\"\n",
        "str=\"I like apple\"\n",
        "print(str.replace(\"apple\",\"orange\"))"
      ],
      "metadata": {
        "colab": {
          "base_uri": "https://localhost:8080/"
        },
        "id": "OZo58j7Z8S2v",
        "outputId": "cd903f08-25dc-4d29-d52b-dd42f8544c5e"
      },
      "execution_count": 26,
      "outputs": [
        {
          "output_type": "stream",
          "name": "stdout",
          "text": [
            "I like orange\n"
          ]
        }
      ]
    },
    {
      "cell_type": "code",
      "source": [
        "#6. Write a code to create a list with numbers 1 to 5 and print it\n",
        "list=[1,2,3,4,5]\n",
        "print(list)\n",
        "for i in range(len(list)):\n",
        "  print(list[i],end=\" \")"
      ],
      "metadata": {
        "colab": {
          "base_uri": "https://localhost:8080/"
        },
        "id": "xYrIy7Rm8fIX",
        "outputId": "b613fcaa-7b79-4db4-a314-5db0c46c127e"
      },
      "execution_count": 28,
      "outputs": [
        {
          "output_type": "stream",
          "name": "stdout",
          "text": [
            "[1, 2, 3, 4, 5]\n",
            "1 2 3 4 5 "
          ]
        }
      ]
    },
    {
      "cell_type": "code",
      "source": [
        "#7.  Write a code to append the number 10 to the list [1, 2, 3, 4]\n",
        "list=[1,2,3,4]\n",
        "list.append(10)\n",
        "print(list)"
      ],
      "metadata": {
        "colab": {
          "base_uri": "https://localhost:8080/"
        },
        "id": "dGBq27BA8srH",
        "outputId": "075566e5-effb-4232-cc37-4489fef28eb2"
      },
      "execution_count": 29,
      "outputs": [
        {
          "output_type": "stream",
          "name": "stdout",
          "text": [
            "[1, 2, 3, 4, 10]\n"
          ]
        }
      ]
    },
    {
      "cell_type": "code",
      "source": [
        "#8. Write a code to remove the number 3 from the list [1, 2, 3, 4, 5]\n",
        "list=[1,2,3,4,5]\n",
        "list.remove(3)\n",
        "print(list)\n"
      ],
      "metadata": {
        "colab": {
          "base_uri": "https://localhost:8080/"
        },
        "id": "GqVZa8FM83J3",
        "outputId": "393ef04e-bcf2-4045-8549-17e3275667af"
      },
      "execution_count": 30,
      "outputs": [
        {
          "output_type": "stream",
          "name": "stdout",
          "text": [
            "[1, 2, 4, 5]\n"
          ]
        }
      ]
    },
    {
      "cell_type": "code",
      "source": [
        "#9. Write a code to access the second element in the list ['a', 'b', 'c', 'd']\n",
        "list=['a', 'b', 'c', 'd']\n",
        "print(list[1])"
      ],
      "metadata": {
        "colab": {
          "base_uri": "https://localhost:8080/"
        },
        "id": "N_OX4NGv9AGn",
        "outputId": "93b2fc61-0de9-42e3-bf9f-6cc37bc3617d"
      },
      "execution_count": 31,
      "outputs": [
        {
          "output_type": "stream",
          "name": "stdout",
          "text": [
            "b\n"
          ]
        }
      ]
    },
    {
      "cell_type": "code",
      "source": [
        "#10. Write a code to reverse the list [10, 20, 30, 40, 50]\n",
        "list=[10, 20, 30, 40, 50]\n",
        "list.reverse()\n",
        "print(list)"
      ],
      "metadata": {
        "colab": {
          "base_uri": "https://localhost:8080/"
        },
        "id": "A4uLOfNJ9F7v",
        "outputId": "21641492-2a2b-47bb-a70e-1fc68d1130c8"
      },
      "execution_count": 32,
      "outputs": [
        {
          "output_type": "stream",
          "name": "stdout",
          "text": [
            "[50, 40, 30, 20, 10]\n"
          ]
        }
      ]
    },
    {
      "cell_type": "code",
      "source": [
        "#11. Write a code to create a tuple with the elements 10, 20, 30 and print it\n",
        "tuple=(10,20,30)\n",
        "print(tuple)"
      ],
      "metadata": {
        "colab": {
          "base_uri": "https://localhost:8080/"
        },
        "id": "LzaqEsve9Nc3",
        "outputId": "0ad912fa-42a5-46b4-a14d-86c57ca5bd29"
      },
      "execution_count": 33,
      "outputs": [
        {
          "output_type": "stream",
          "name": "stdout",
          "text": [
            "(10, 20, 30)\n"
          ]
        }
      ]
    },
    {
      "cell_type": "code",
      "source": [
        "#12.  Write a code to access the first element of the tuple ('apple', 'banana', 'cherry').\n",
        "tuple=('apple', 'banana', 'cherry')\n",
        "print(tuple[0])"
      ],
      "metadata": {
        "colab": {
          "base_uri": "https://localhost:8080/"
        },
        "id": "9dJFxfmy9XJ_",
        "outputId": "df6e9f0f-a94f-41fd-d051-f0463c6d9059"
      },
      "execution_count": 34,
      "outputs": [
        {
          "output_type": "stream",
          "name": "stdout",
          "text": [
            "apple\n"
          ]
        }
      ]
    },
    {
      "cell_type": "code",
      "source": [
        "#13. Write a code to count how many times the number 2 appears in the tuple (1, 2, 3, 2, 4, 2)\n",
        "tuple=(1, 2, 3, 2, 4, 2)\n",
        "print(tuple.count(2))"
      ],
      "metadata": {
        "colab": {
          "base_uri": "https://localhost:8080/"
        },
        "id": "Ahtx_MBD9ddH",
        "outputId": "9004e171-ff0d-4dee-cbcf-e01fa5ff2514"
      },
      "execution_count": 35,
      "outputs": [
        {
          "output_type": "stream",
          "name": "stdout",
          "text": [
            "3\n"
          ]
        }
      ]
    },
    {
      "cell_type": "code",
      "source": [
        "#14. Write a code to find the index of the element \"cat\" in the tuple ('dog', 'cat', 'rabbit').\n",
        "tuple=('dog', 'cat', 'rabbit')\n",
        "print(tuple.index(\"cat\"))"
      ],
      "metadata": {
        "colab": {
          "base_uri": "https://localhost:8080/"
        },
        "id": "TbZopprv9kXX",
        "outputId": "b07a72cd-c2c2-4847-da5a-fc94e7690714"
      },
      "execution_count": 36,
      "outputs": [
        {
          "output_type": "stream",
          "name": "stdout",
          "text": [
            "1\n"
          ]
        }
      ]
    },
    {
      "cell_type": "code",
      "source": [
        "#15.  Write a code to check if the element \"banana\" is in the tuple ('apple', 'orange', 'banana').\n",
        "tuple=('apple', 'orange', 'banana')\n",
        "print(\"banana\" in tuple)"
      ],
      "metadata": {
        "colab": {
          "base_uri": "https://localhost:8080/"
        },
        "id": "XAXYoBSy94X-",
        "outputId": "0ac6a966-59cc-414a-b06a-eb8ce022f3bb"
      },
      "execution_count": 37,
      "outputs": [
        {
          "output_type": "stream",
          "name": "stdout",
          "text": [
            "True\n"
          ]
        }
      ]
    },
    {
      "cell_type": "code",
      "source": [
        "#16.  Write a code to create a set with the elements 1, 2, 3, 4, 5 and print it.\n",
        "set={1,2,3,4,5}\n",
        "print(set)"
      ],
      "metadata": {
        "colab": {
          "base_uri": "https://localhost:8080/"
        },
        "id": "fOYuu4MR9-zn",
        "outputId": "a7495173-3211-417a-b10c-5901ffcc04ee"
      },
      "execution_count": 38,
      "outputs": [
        {
          "output_type": "stream",
          "name": "stdout",
          "text": [
            "{1, 2, 3, 4, 5}\n"
          ]
        }
      ]
    },
    {
      "cell_type": "code",
      "source": [
        "#17. Write a code to add the element 6 to the set {1, 2, 3, 4}.\n",
        "set={1, 2, 3, 4}\n",
        "set.add(6)\n",
        "print(set)"
      ],
      "metadata": {
        "colab": {
          "base_uri": "https://localhost:8080/"
        },
        "id": "JDn2tJdx-Eyn",
        "outputId": "5c99165a-2723-4a6b-f1c5-1244a5906c73"
      },
      "execution_count": 39,
      "outputs": [
        {
          "output_type": "stream",
          "name": "stdout",
          "text": [
            "{1, 2, 3, 4, 6}\n"
          ]
        }
      ]
    },
    {
      "cell_type": "code",
      "source": [
        "#18.  Write a code to create a tuple with the elements 10, 20, 30 and print it.\n",
        "t=(10,20,30)\n",
        "print(t)"
      ],
      "metadata": {
        "colab": {
          "base_uri": "https://localhost:8080/"
        },
        "id": "pnaTzzWg-KeW",
        "outputId": "5a124f65-2794-4861-a319-cc09272ab271"
      },
      "execution_count": 41,
      "outputs": [
        {
          "output_type": "stream",
          "name": "stdout",
          "text": [
            "(10, 20, 30)\n"
          ]
        }
      ]
    },
    {
      "cell_type": "code",
      "source": [
        "#19. Write a code to access the first element of the tuple ('apple', 'banana', 'cherry').\n",
        "tuple=('apple', 'banana', 'cherry')\n",
        "print(tuple[0])"
      ],
      "metadata": {
        "colab": {
          "base_uri": "https://localhost:8080/"
        },
        "id": "xdSMXhEc-T4m",
        "outputId": "9ea8a862-f46a-4c5a-f6f8-e2c40202e2b6"
      },
      "execution_count": 42,
      "outputs": [
        {
          "output_type": "stream",
          "name": "stdout",
          "text": [
            "apple\n"
          ]
        }
      ]
    },
    {
      "cell_type": "code",
      "source": [
        "#20. Write a code to count how many times the number 2 appears in the tuple (1, 2, 3, 2, 4, 2).\n",
        "t= (1, 2, 3, 2, 4, 2)\n",
        "print(t.count(2))"
      ],
      "metadata": {
        "colab": {
          "base_uri": "https://localhost:8080/"
        },
        "id": "PbbRI8kA-tne",
        "outputId": "3640ac3e-a00d-41d4-814e-59b456f4d5e2"
      },
      "execution_count": 43,
      "outputs": [
        {
          "output_type": "stream",
          "name": "stdout",
          "text": [
            "3\n"
          ]
        }
      ]
    },
    {
      "cell_type": "code",
      "source": [
        "#21.  Write a code to find the index of the element \"cat\" in the tuple ('dog', 'cat', 'rabbit')\n",
        "t=('dog', 'cat', 'rabbit')\n",
        "print(t.index(\"cat\"))\n"
      ],
      "metadata": {
        "colab": {
          "base_uri": "https://localhost:8080/"
        },
        "id": "Z9X5Jt9W-4se",
        "outputId": "bcab196a-3b63-4391-f134-efa4ff3964a4"
      },
      "execution_count": 44,
      "outputs": [
        {
          "output_type": "stream",
          "name": "stdout",
          "text": [
            "1\n"
          ]
        }
      ]
    },
    {
      "cell_type": "code",
      "source": [
        "#22. Write a code to check if the element \"banana\" is in the tuple ('apple', 'orange', 'banana').\n",
        "t=('apple', 'orange', 'banana')\n",
        "print(\"banana\" in t)"
      ],
      "metadata": {
        "colab": {
          "base_uri": "https://localhost:8080/"
        },
        "id": "zh0YIhdF_DR2",
        "outputId": "198ccaa1-e554-4624-e716-99e4cabc67bd"
      },
      "execution_count": 45,
      "outputs": [
        {
          "output_type": "stream",
          "name": "stdout",
          "text": [
            "True\n"
          ]
        }
      ]
    },
    {
      "cell_type": "code",
      "source": [
        "#23.  Write a code to create a set with the elements 1, 2, 3, 4, 5 and print it.\n",
        "s={1,2,3,4,5}\n",
        "print(s)"
      ],
      "metadata": {
        "colab": {
          "base_uri": "https://localhost:8080/"
        },
        "id": "WZGF0W19_IB-",
        "outputId": "ab0c797e-0e05-4a6b-b2e1-9dbe5ad2bd66"
      },
      "execution_count": 46,
      "outputs": [
        {
          "output_type": "stream",
          "name": "stdout",
          "text": [
            "{1, 2, 3, 4, 5}\n"
          ]
        }
      ]
    },
    {
      "cell_type": "code",
      "source": [
        "#24.  Write a code to add the element 6 to the set {1, 2, 3, 4}.\n",
        "s={1, 2, 3, 4}\n",
        "s.add(6)\n",
        "print(s)"
      ],
      "metadata": {
        "colab": {
          "base_uri": "https://localhost:8080/"
        },
        "id": "H2jUolDE_V4m",
        "outputId": "8460c334-d5c6-435b-bd97-cb1535965d24"
      },
      "execution_count": 47,
      "outputs": [
        {
          "output_type": "stream",
          "name": "stdout",
          "text": [
            "{1, 2, 3, 4, 6}\n"
          ]
        }
      ]
    },
    {
      "cell_type": "code",
      "source": [],
      "metadata": {
        "id": "BchsmL90_hRe"
      },
      "execution_count": null,
      "outputs": []
    }
  ]
}